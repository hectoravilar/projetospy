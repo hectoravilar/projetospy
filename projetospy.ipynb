{
 "cells": [
  {
   "cell_type": "code",
   "execution_count": 1,
   "metadata": {},
   "outputs": [
    {
     "data": {
      "application/vnd.plotly.v1+json": {
       "config": {
        "plotlyServerURL": "https://plot.ly"
       },
       "data": [
        {
         "hovertext": [
          "Nome: João e Juliana<br>Média de Renda: R$ 1.800,00<br>Emprego Procurado: Pedreiro(a)<br>Curso Necessário: Construção Civil<br>Escolaridade: Ensino Médio",
          "Nome: Maria e Carla<br>Média de Renda: R$ 1.600,00<br>Emprego Procurado: Carpinteiro(a)<br>Curso Necessário: Marcenaria <br>Escolaridade: Ensino Fundamental, Ensino Médio",
          "Nome: José e Marcelo<br>Média de Renda: R$ 2.000,00<br>Emprego Procurado: Pedreiro(a)<br>Curso Necessário: Construção Civil<br>Escolaridade: Ensino Médio",
          "Nome: Pedro e Ana<br>Média de Renda: R$ 2.000,00<br>Emprego Procurado: Pedreiro(a)<br>Curso Necessário: Construção Civil<br>Escolaridade: Ensino Fundamental, Ensino Médio",
          "Nome: Lucas e Camila<br>Média de Renda: R$ 1.600,00<br>Emprego Procurado: Carpinteiro(a)<br>Curso Necessário: Marcenaria<br>Escolaridade: Ensino Fundamental, Ensino Médio",
          ""
         ],
         "marker": {
          "color": "white",
          "line": {
           "color": "rgb(8,48,107)",
           "width": 0
          }
         },
         "opacity": 0.7,
         "type": "bar",
         "x": [
          "Kobrasol",
          "Barreiros",
          "Forquilhas",
          "Campinas",
          "Areias"
         ],
         "y": [
          31,
          26,
          32,
          23,
          23
         ]
        }
       ],
       "layout": {
        "annotations": [
         {
          "arrowhead": 7,
          "ax": 0,
          "ay": -40,
          "showarrow": true,
          "text": "31",
          "x": "Kobrasol",
          "xref": "x",
          "y": 31,
          "yref": "y"
         },
         {
          "arrowhead": 7,
          "ax": 0,
          "ay": -40,
          "showarrow": true,
          "text": "26",
          "x": "Barreiros",
          "xref": "x",
          "y": 26,
          "yref": "y"
         },
         {
          "arrowhead": 7,
          "ax": 0,
          "ay": -40,
          "showarrow": true,
          "text": "32",
          "x": "Forquilhas",
          "xref": "x",
          "y": 32,
          "yref": "y"
         },
         {
          "arrowhead": 7,
          "ax": 0,
          "ay": -40,
          "showarrow": true,
          "text": "23",
          "x": "Campinas",
          "xref": "x",
          "y": 23,
          "yref": "y"
         },
         {
          "arrowhead": 7,
          "ax": 0,
          "ay": -40,
          "showarrow": true,
          "text": "23",
          "x": "Areias",
          "xref": "x",
          "y": 23,
          "yref": "y"
         },
         {
          "font": {
           "color": "white",
           "size": 12
          },
          "showarrow": false,
          "text": "Bairros",
          "x": 0,
          "xref": "paper",
          "y": -0.15,
          "yref": "paper"
         }
        ],
        "font": {
         "color": "white",
         "size": 12
        },
        "paper_bgcolor": "rgb(25, 42, 70)",
        "plot_bgcolor": "rgb(25, 42, 70)",
        "scene": {
         "aspectmode": "manual",
         "aspectratio": {
          "x": 4,
          "y": 4,
          "z": 2
         },
         "camera": {
          "eye": {
           "x": 1.87,
           "y": 0.88,
           "z": -0.64
          }
         },
         "xaxis": {
          "showbackground": false,
          "showgrid": false,
          "showticklabels": false
         },
         "yaxis": {
          "showbackground": false,
          "showgrid": false,
          "showticklabels": false
         },
         "zaxis": {
          "showbackground": false,
          "showgrid": false,
          "showticklabels": false
         }
        },
        "template": {
         "data": {
          "bar": [
           {
            "error_x": {
             "color": "#2a3f5f"
            },
            "error_y": {
             "color": "#2a3f5f"
            },
            "marker": {
             "line": {
              "color": "#E5ECF6",
              "width": 0.5
             },
             "pattern": {
              "fillmode": "overlay",
              "size": 10,
              "solidity": 0.2
             }
            },
            "type": "bar"
           }
          ],
          "barpolar": [
           {
            "marker": {
             "line": {
              "color": "#E5ECF6",
              "width": 0.5
             },
             "pattern": {
              "fillmode": "overlay",
              "size": 10,
              "solidity": 0.2
             }
            },
            "type": "barpolar"
           }
          ],
          "carpet": [
           {
            "aaxis": {
             "endlinecolor": "#2a3f5f",
             "gridcolor": "white",
             "linecolor": "white",
             "minorgridcolor": "white",
             "startlinecolor": "#2a3f5f"
            },
            "baxis": {
             "endlinecolor": "#2a3f5f",
             "gridcolor": "white",
             "linecolor": "white",
             "minorgridcolor": "white",
             "startlinecolor": "#2a3f5f"
            },
            "type": "carpet"
           }
          ],
          "choropleth": [
           {
            "colorbar": {
             "outlinewidth": 0,
             "ticks": ""
            },
            "type": "choropleth"
           }
          ],
          "contour": [
           {
            "colorbar": {
             "outlinewidth": 0,
             "ticks": ""
            },
            "colorscale": [
             [
              0,
              "#0d0887"
             ],
             [
              0.1111111111111111,
              "#46039f"
             ],
             [
              0.2222222222222222,
              "#7201a8"
             ],
             [
              0.3333333333333333,
              "#9c179e"
             ],
             [
              0.4444444444444444,
              "#bd3786"
             ],
             [
              0.5555555555555556,
              "#d8576b"
             ],
             [
              0.6666666666666666,
              "#ed7953"
             ],
             [
              0.7777777777777778,
              "#fb9f3a"
             ],
             [
              0.8888888888888888,
              "#fdca26"
             ],
             [
              1,
              "#f0f921"
             ]
            ],
            "type": "contour"
           }
          ],
          "contourcarpet": [
           {
            "colorbar": {
             "outlinewidth": 0,
             "ticks": ""
            },
            "type": "contourcarpet"
           }
          ],
          "heatmap": [
           {
            "colorbar": {
             "outlinewidth": 0,
             "ticks": ""
            },
            "colorscale": [
             [
              0,
              "#0d0887"
             ],
             [
              0.1111111111111111,
              "#46039f"
             ],
             [
              0.2222222222222222,
              "#7201a8"
             ],
             [
              0.3333333333333333,
              "#9c179e"
             ],
             [
              0.4444444444444444,
              "#bd3786"
             ],
             [
              0.5555555555555556,
              "#d8576b"
             ],
             [
              0.6666666666666666,
              "#ed7953"
             ],
             [
              0.7777777777777778,
              "#fb9f3a"
             ],
             [
              0.8888888888888888,
              "#fdca26"
             ],
             [
              1,
              "#f0f921"
             ]
            ],
            "type": "heatmap"
           }
          ],
          "heatmapgl": [
           {
            "colorbar": {
             "outlinewidth": 0,
             "ticks": ""
            },
            "colorscale": [
             [
              0,
              "#0d0887"
             ],
             [
              0.1111111111111111,
              "#46039f"
             ],
             [
              0.2222222222222222,
              "#7201a8"
             ],
             [
              0.3333333333333333,
              "#9c179e"
             ],
             [
              0.4444444444444444,
              "#bd3786"
             ],
             [
              0.5555555555555556,
              "#d8576b"
             ],
             [
              0.6666666666666666,
              "#ed7953"
             ],
             [
              0.7777777777777778,
              "#fb9f3a"
             ],
             [
              0.8888888888888888,
              "#fdca26"
             ],
             [
              1,
              "#f0f921"
             ]
            ],
            "type": "heatmapgl"
           }
          ],
          "histogram": [
           {
            "marker": {
             "pattern": {
              "fillmode": "overlay",
              "size": 10,
              "solidity": 0.2
             }
            },
            "type": "histogram"
           }
          ],
          "histogram2d": [
           {
            "colorbar": {
             "outlinewidth": 0,
             "ticks": ""
            },
            "colorscale": [
             [
              0,
              "#0d0887"
             ],
             [
              0.1111111111111111,
              "#46039f"
             ],
             [
              0.2222222222222222,
              "#7201a8"
             ],
             [
              0.3333333333333333,
              "#9c179e"
             ],
             [
              0.4444444444444444,
              "#bd3786"
             ],
             [
              0.5555555555555556,
              "#d8576b"
             ],
             [
              0.6666666666666666,
              "#ed7953"
             ],
             [
              0.7777777777777778,
              "#fb9f3a"
             ],
             [
              0.8888888888888888,
              "#fdca26"
             ],
             [
              1,
              "#f0f921"
             ]
            ],
            "type": "histogram2d"
           }
          ],
          "histogram2dcontour": [
           {
            "colorbar": {
             "outlinewidth": 0,
             "ticks": ""
            },
            "colorscale": [
             [
              0,
              "#0d0887"
             ],
             [
              0.1111111111111111,
              "#46039f"
             ],
             [
              0.2222222222222222,
              "#7201a8"
             ],
             [
              0.3333333333333333,
              "#9c179e"
             ],
             [
              0.4444444444444444,
              "#bd3786"
             ],
             [
              0.5555555555555556,
              "#d8576b"
             ],
             [
              0.6666666666666666,
              "#ed7953"
             ],
             [
              0.7777777777777778,
              "#fb9f3a"
             ],
             [
              0.8888888888888888,
              "#fdca26"
             ],
             [
              1,
              "#f0f921"
             ]
            ],
            "type": "histogram2dcontour"
           }
          ],
          "mesh3d": [
           {
            "colorbar": {
             "outlinewidth": 0,
             "ticks": ""
            },
            "type": "mesh3d"
           }
          ],
          "parcoords": [
           {
            "line": {
             "colorbar": {
              "outlinewidth": 0,
              "ticks": ""
             }
            },
            "type": "parcoords"
           }
          ],
          "pie": [
           {
            "automargin": true,
            "type": "pie"
           }
          ],
          "scatter": [
           {
            "fillpattern": {
             "fillmode": "overlay",
             "size": 10,
             "solidity": 0.2
            },
            "type": "scatter"
           }
          ],
          "scatter3d": [
           {
            "line": {
             "colorbar": {
              "outlinewidth": 0,
              "ticks": ""
             }
            },
            "marker": {
             "colorbar": {
              "outlinewidth": 0,
              "ticks": ""
             }
            },
            "type": "scatter3d"
           }
          ],
          "scattercarpet": [
           {
            "marker": {
             "colorbar": {
              "outlinewidth": 0,
              "ticks": ""
             }
            },
            "type": "scattercarpet"
           }
          ],
          "scattergeo": [
           {
            "marker": {
             "colorbar": {
              "outlinewidth": 0,
              "ticks": ""
             }
            },
            "type": "scattergeo"
           }
          ],
          "scattergl": [
           {
            "marker": {
             "colorbar": {
              "outlinewidth": 0,
              "ticks": ""
             }
            },
            "type": "scattergl"
           }
          ],
          "scattermapbox": [
           {
            "marker": {
             "colorbar": {
              "outlinewidth": 0,
              "ticks": ""
             }
            },
            "type": "scattermapbox"
           }
          ],
          "scatterpolar": [
           {
            "marker": {
             "colorbar": {
              "outlinewidth": 0,
              "ticks": ""
             }
            },
            "type": "scatterpolar"
           }
          ],
          "scatterpolargl": [
           {
            "marker": {
             "colorbar": {
              "outlinewidth": 0,
              "ticks": ""
             }
            },
            "type": "scatterpolargl"
           }
          ],
          "scatterternary": [
           {
            "marker": {
             "colorbar": {
              "outlinewidth": 0,
              "ticks": ""
             }
            },
            "type": "scatterternary"
           }
          ],
          "surface": [
           {
            "colorbar": {
             "outlinewidth": 0,
             "ticks": ""
            },
            "colorscale": [
             [
              0,
              "#0d0887"
             ],
             [
              0.1111111111111111,
              "#46039f"
             ],
             [
              0.2222222222222222,
              "#7201a8"
             ],
             [
              0.3333333333333333,
              "#9c179e"
             ],
             [
              0.4444444444444444,
              "#bd3786"
             ],
             [
              0.5555555555555556,
              "#d8576b"
             ],
             [
              0.6666666666666666,
              "#ed7953"
             ],
             [
              0.7777777777777778,
              "#fb9f3a"
             ],
             [
              0.8888888888888888,
              "#fdca26"
             ],
             [
              1,
              "#f0f921"
             ]
            ],
            "type": "surface"
           }
          ],
          "table": [
           {
            "cells": {
             "fill": {
              "color": "#EBF0F8"
             },
             "line": {
              "color": "white"
             }
            },
            "header": {
             "fill": {
              "color": "#C8D4E3"
             },
             "line": {
              "color": "white"
             }
            },
            "type": "table"
           }
          ]
         },
         "layout": {
          "annotationdefaults": {
           "arrowcolor": "#2a3f5f",
           "arrowhead": 0,
           "arrowwidth": 1
          },
          "autotypenumbers": "strict",
          "coloraxis": {
           "colorbar": {
            "outlinewidth": 0,
            "ticks": ""
           }
          },
          "colorscale": {
           "diverging": [
            [
             0,
             "#8e0152"
            ],
            [
             0.1,
             "#c51b7d"
            ],
            [
             0.2,
             "#de77ae"
            ],
            [
             0.3,
             "#f1b6da"
            ],
            [
             0.4,
             "#fde0ef"
            ],
            [
             0.5,
             "#f7f7f7"
            ],
            [
             0.6,
             "#e6f5d0"
            ],
            [
             0.7,
             "#b8e186"
            ],
            [
             0.8,
             "#7fbc41"
            ],
            [
             0.9,
             "#4d9221"
            ],
            [
             1,
             "#276419"
            ]
           ],
           "sequential": [
            [
             0,
             "#0d0887"
            ],
            [
             0.1111111111111111,
             "#46039f"
            ],
            [
             0.2222222222222222,
             "#7201a8"
            ],
            [
             0.3333333333333333,
             "#9c179e"
            ],
            [
             0.4444444444444444,
             "#bd3786"
            ],
            [
             0.5555555555555556,
             "#d8576b"
            ],
            [
             0.6666666666666666,
             "#ed7953"
            ],
            [
             0.7777777777777778,
             "#fb9f3a"
            ],
            [
             0.8888888888888888,
             "#fdca26"
            ],
            [
             1,
             "#f0f921"
            ]
           ],
           "sequentialminus": [
            [
             0,
             "#0d0887"
            ],
            [
             0.1111111111111111,
             "#46039f"
            ],
            [
             0.2222222222222222,
             "#7201a8"
            ],
            [
             0.3333333333333333,
             "#9c179e"
            ],
            [
             0.4444444444444444,
             "#bd3786"
            ],
            [
             0.5555555555555556,
             "#d8576b"
            ],
            [
             0.6666666666666666,
             "#ed7953"
            ],
            [
             0.7777777777777778,
             "#fb9f3a"
            ],
            [
             0.8888888888888888,
             "#fdca26"
            ],
            [
             1,
             "#f0f921"
            ]
           ]
          },
          "colorway": [
           "#636efa",
           "#EF553B",
           "#00cc96",
           "#ab63fa",
           "#FFA15A",
           "#19d3f3",
           "#FF6692",
           "#B6E880",
           "#FF97FF",
           "#FECB52"
          ],
          "font": {
           "color": "#2a3f5f"
          },
          "geo": {
           "bgcolor": "white",
           "lakecolor": "white",
           "landcolor": "#E5ECF6",
           "showlakes": true,
           "showland": true,
           "subunitcolor": "white"
          },
          "hoverlabel": {
           "align": "left"
          },
          "hovermode": "closest",
          "mapbox": {
           "style": "light"
          },
          "paper_bgcolor": "white",
          "plot_bgcolor": "#E5ECF6",
          "polar": {
           "angularaxis": {
            "gridcolor": "white",
            "linecolor": "white",
            "ticks": ""
           },
           "bgcolor": "#E5ECF6",
           "radialaxis": {
            "gridcolor": "white",
            "linecolor": "white",
            "ticks": ""
           }
          },
          "scene": {
           "xaxis": {
            "backgroundcolor": "#E5ECF6",
            "gridcolor": "white",
            "gridwidth": 2,
            "linecolor": "white",
            "showbackground": true,
            "ticks": "",
            "zerolinecolor": "white"
           },
           "yaxis": {
            "backgroundcolor": "#E5ECF6",
            "gridcolor": "white",
            "gridwidth": 2,
            "linecolor": "white",
            "showbackground": true,
            "ticks": "",
            "zerolinecolor": "white"
           },
           "zaxis": {
            "backgroundcolor": "#E5ECF6",
            "gridcolor": "white",
            "gridwidth": 2,
            "linecolor": "white",
            "showbackground": true,
            "ticks": "",
            "zerolinecolor": "white"
           }
          },
          "shapedefaults": {
           "line": {
            "color": "#2a3f5f"
           }
          },
          "ternary": {
           "aaxis": {
            "gridcolor": "white",
            "linecolor": "white",
            "ticks": ""
           },
           "baxis": {
            "gridcolor": "white",
            "linecolor": "white",
            "ticks": ""
           },
           "bgcolor": "#E5ECF6",
           "caxis": {
            "gridcolor": "white",
            "linecolor": "white",
            "ticks": ""
           }
          },
          "title": {
           "x": 0.05
          },
          "xaxis": {
           "automargin": true,
           "gridcolor": "white",
           "linecolor": "white",
           "ticks": "",
           "title": {
            "standoff": 15
           },
           "zerolinecolor": "white",
           "zerolinewidth": 2
          },
          "yaxis": {
           "automargin": true,
           "gridcolor": "white",
           "linecolor": "white",
           "ticks": "",
           "title": {
            "standoff": 15
           },
           "zerolinecolor": "white",
           "zerolinewidth": 2
          }
         }
        },
        "title": {
         "font": {
          "color": "white",
          "family": "Arial, sans-serif",
          "size": 25,
          "weight": "bold"
         },
         "text": "Estatísticas de Emprego por Bairro em São José",
         "x": 0.4
        },
        "yaxis": {
         "title": {
          "font": {
           "color": "white",
           "size": 13
          },
          "text": "Média de idade"
         }
        }
       }
      }
     },
     "metadata": {},
     "output_type": "display_data"
    }
   ],
   "source": [
    "import plotly.graph_objects as go\n",
    "# Adicionando Bairros e sua media de idade\n",
    "x = ['Kobrasol', 'Barreiros', 'Forquilhas', 'Campinas', 'Areias']\n",
    "y = [31, 26, 32, 23, 23]\n",
    "\n",
    "# Configurando o hovertext:\n",
    "# texto que aparece quando passa o cursor do mouse sobre a barra de informações do gráfico. \n",
    "# Adicionando os nomes,renda,emprego procurado,curso necessário e escolaridade de cada um pedidos\n",
    "fig = go.Figure(data=[go.Bar(x=x, y=y,\n",
    "                             hovertext=['Nome: João e Juliana<br>Média de Renda: R$ 1.800,00<br>Emprego Procurado: Pedreiro(a)<br>Curso Necessário: Construção Civil<br>Escolaridade: Ensino Médio',\n",
    "                                        'Nome: Maria e Carla<br>Média de Renda: R$ 1.600,00<br>Emprego Procurado: Carpinteiro(a)<br>Curso Necessário: Marcenaria <br>Escolaridade: Ensino Fundamental, Ensino Médio',\n",
    "                                        'Nome: José e Marcelo<br>Média de Renda: R$ 2.000,00<br>Emprego Procurado: Pedreiro(a)<br>Curso Necessário: Construção Civil<br>Escolaridade: Ensino Médio',\n",
    "                                        'Nome: Pedro e Ana<br>Média de Renda: R$ 2.000,00<br>Emprego Procurado: Pedreiro(a)<br>Curso Necessário: Construção Civil<br>Escolaridade: Ensino Fundamental, Ensino Médio',\n",
    "                                        'Nome: Lucas e Camila<br>Média de Renda: R$ 1.600,00<br>Emprego Procurado: Carpinteiro(a)<br>Curso Necessário: Marcenaria<br>Escolaridade: Ensino Fundamental, Ensino Médio', ''])])\n",
    "\n",
    "# Customizando...\n",
    "fig.update_traces(marker_color='white', marker_line_color='rgb(8,48,107)', marker_line_width=0.0, opacity=0.7)\n",
    "fig.update_layout(\n",
    "    title_text='Estatísticas de Emprego por Bairro em São José',\n",
    "    title_font=dict(size=25, color='white', family=\"Arial, sans-serif\", weight=\"bold\"),  # Definindo tamanho,fonte das letras e cor do título\n",
    "    title_x=0.4,  # Centralizando o título\n",
    "    yaxis_title=dict(text='Média de idade', font=dict(size=13, color='white')),\n",
    "    font=dict(color='white', size=12),  # Definindo cor e tamanho da fonte do texto\n",
    "    plot_bgcolor='rgb(25, 42, 70)',  # Definindo uma cor de fundo azul escuro \n",
    "    paper_bgcolor='rgb(25, 42, 70)',  # Definindo uma cor de fundo azul escuro\n",
    "    scene=dict(\n",
    "        xaxis=dict(\n",
    "            showbackground=False,\n",
    "            showgrid=False,\n",
    "            showticklabels=False,\n",
    "        ),\n",
    "        yaxis=dict(\n",
    "            showbackground=False,\n",
    "            showgrid=False,\n",
    "            showticklabels=False,\n",
    "        ),\n",
    "        zaxis=dict(\n",
    "            showbackground=False,\n",
    "            showgrid=False,\n",
    "            showticklabels=False,\n",
    "        ),\n",
    "        camera_eye=dict(x=1.87, y=0.88, z=-0.64),\n",
    "        aspectmode='manual',\n",
    "        aspectratio=dict(x=4, y=4, z=2)\n",
    "    )\n",
    ")\n",
    "\n",
    "# Adicionando estatística e media de idade de cada bairro\n",
    "annotations = [\n",
    "    dict(\n",
    "        x='Kobrasol', y=31,\n",
    "        xref='x', yref='y',\n",
    "        text='31',\n",
    "        showarrow=True,\n",
    "        arrowhead=7,\n",
    "        ax=0, ay=-40\n",
    "    ),\n",
    "    dict(\n",
    "        x='Barreiros', y=26,\n",
    "        xref='x', yref='y',\n",
    "        text='26',\n",
    "        showarrow=True,\n",
    "        arrowhead=7,\n",
    "        ax=0, ay=-40\n",
    "    ),\n",
    "    dict(\n",
    "        x='Forquilhas', y=32,\n",
    "        xref='x', yref='y',\n",
    "        text='32',\n",
    "        showarrow=True,\n",
    "        arrowhead=7,\n",
    "        ax=0, ay=-40\n",
    "    ),\n",
    "    dict(\n",
    "        x='Campinas', y=23,\n",
    "        xref='x', yref='y',\n",
    "        text='23',\n",
    "        showarrow=True,\n",
    "        arrowhead=7,\n",
    "        ax=0, ay=-40\n",
    "    ),\n",
    "    dict(\n",
    "        x='Areias', y=23,\n",
    "        xref='x', yref='y',\n",
    "        text='23',\n",
    "        showarrow=True,\n",
    "        arrowhead=7,\n",
    "        ax=0, ay=-40\n",
    "    )\n",
    "]\n",
    "\n",
    "fig.update_layout(annotations=annotations)\n",
    "\n",
    "# Adicionando \"Bairro\" embaixo do gráfico\n",
    "fig.add_annotation(x=0.0, y=-0.15, xref='paper', yref='paper', text=\"Bairros\", showarrow=False,\n",
    "                   font=dict(size=12, color=\"white\"))\n",
    "\n",
    "fig.show()\n",
    "\n"
   ]
  }
 ],
 "metadata": {
  "kernelspec": {
   "display_name": "Python 3",
   "language": "python",
   "name": "python3"
  },
  "language_info": {
   "codemirror_mode": {
    "name": "ipython",
    "version": 3
   },
   "file_extension": ".py",
   "mimetype": "text/x-python",
   "name": "python",
   "nbconvert_exporter": "python",
   "pygments_lexer": "ipython3",
   "version": "3.12.7"
  }
 },
 "nbformat": 4,
 "nbformat_minor": 2
}
